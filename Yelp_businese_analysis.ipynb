{
 "cells": [
  {
   "cell_type": "markdown",
   "metadata": {},
   "source": [
    "**NOTE**: This file should be in the same folder as your `PA_businesses.json` and `PA_reviews_full.json` files, and `cached_api` folder.\n",
    "\n",
    "# Yelp Homework Solutions"
   ]
  },
  {
   "cell_type": "code",
   "execution_count": 4,
   "metadata": {},
   "outputs": [],
   "source": [
    "import re\n",
    "import numpy as np\n",
    "import pandas as pd\n",
    "from pandas.io.json import json_normalize"
   ]
  },
  {
   "cell_type": "code",
   "execution_count": 5,
   "metadata": {},
   "outputs": [],
   "source": [
    "# This method is used to convert a large JSON file into a Pandas dataframe.\n",
    "def fetch_yelp(k, takeout_file):\n",
    "    yelp = None\n",
    "    with open(takeout_file) as in_file:\n",
    "        raw = pd.read_json(in_file)\n",
    "        reviews = raw[k]\n",
    "        yelp = json_normalize(reviews)\n",
    "        print(yelp.shape)\n",
    "        print(yelp.columns)\n",
    "    return yelp"
   ]
  },
  {
   "cell_type": "code",
   "execution_count": 6,
   "metadata": {
    "scrolled": true
   },
   "outputs": [
    {
     "name": "stdout",
     "output_type": "stream",
     "text": [
      "(4237, 56)\n",
      "Index(['business_id', 'name', 'address', 'city', 'state', 'postal_code',\n",
      "       'latitude', 'longitude', 'stars', 'review_count', 'is_open',\n",
      "       'categories', 'hours', 'attributes.RestaurantsTakeOut',\n",
      "       'attributes.BusinessParking', 'attributes.Ambience',\n",
      "       'attributes.RestaurantsDelivery', 'attributes.RestaurantsReservations',\n",
      "       'attributes.BusinessAcceptsCreditCards',\n",
      "       'attributes.RestaurantsPriceRange2',\n",
      "       'attributes.RestaurantsGoodForGroups', 'attributes.DriveThru',\n",
      "       'attributes.GoodForKids', 'attributes.GoodForMeal', 'attributes.HasTV',\n",
      "       'attributes.OutdoorSeating', 'attributes.CoatCheck',\n",
      "       'attributes.HappyHour', 'attributes.Smoking', 'attributes.WiFi',\n",
      "       'attributes.RestaurantsTableService', 'attributes.Alcohol',\n",
      "       'attributes.Caters', 'attributes.Music', 'attributes.BestNights',\n",
      "       'attributes.WheelchairAccessible', 'attributes.BusinessAcceptsBitcoin',\n",
      "       'attributes.GoodForDancing', 'attributes.BikeParking',\n",
      "       'attributes.RestaurantsAttire', 'attributes.NoiseLevel',\n",
      "       'hours.Wednesday', 'hours.Thursday', 'hours.Friday', 'hours.Saturday',\n",
      "       'hours.Sunday', 'hours.Monday', 'hours.Tuesday',\n",
      "       'attributes.DogsAllowed', 'attributes.BYOBCorkage',\n",
      "       'attributes.Corkage', 'attributes.BYOB', 'attributes.ByAppointmentOnly',\n",
      "       'attributes.AgesAllowed', 'attributes.Open24Hours',\n",
      "       'attributes.AcceptsInsurance'],\n",
      "      dtype='object')\n",
      "(216856, 9)\n",
      "Index(['review_id', 'user_id', 'business_id', 'stars', 'useful', 'funny',\n",
      "       'cool', 'text', 'date'],\n",
      "      dtype='object')\n"
     ]
    }
   ],
   "source": [
    "businesses_yelp = fetch_yelp(\"businesses\", \"PA_businesses.json\")\n",
    "reviews_yelp = fetch_yelp(\"reviews\", \"PA_reviews_full.json\")\n"
   ]
  },
  {
   "cell_type": "markdown",
   "metadata": {},
   "source": [
    "## Question 1\n",
    "\n",
    "I accomplished this by grouping reviews by business ID, then measuring the size of the resulting groups."
   ]
  },
  {
   "cell_type": "code",
   "execution_count": 7,
   "metadata": {},
   "outputs": [],
   "source": [
    "reviews_by_business = reviews_yelp.groupby('business_id')\n",
    "business_means = reviews_by_business.mean()"
   ]
  },
  {
   "cell_type": "code",
   "execution_count": 8,
   "metadata": {},
   "outputs": [
    {
     "name": "stdout",
     "output_type": "stream",
     "text": [
      "rounded\n",
      "1.0    0.009677\n",
      "2.0    0.093698\n",
      "3.0    0.316970\n",
      "4.0    0.486193\n",
      "5.0    0.093462\n",
      "dtype: float64\n"
     ]
    }
   ],
   "source": [
    "business_means[\"rounded\"] = round(business_means[\"stars\"])\n",
    "stars_count = business_means.groupby(\"rounded\").size()\n",
    "\n",
    "stars_percentages = stars_count / len(business_means)\n",
    "print(stars_percentages)"
   ]
  },
  {
   "cell_type": "markdown",
   "metadata": {},
   "source": [
    "Alternatively, you can accesss business reviews directly in the businesses JSON file, but these are in half-star increments."
   ]
  },
  {
   "cell_type": "code",
   "execution_count": 9,
   "metadata": {},
   "outputs": [
    {
     "name": "stdout",
     "output_type": "stream",
     "text": [
      "stars\n",
      "1.0    0.004956\n",
      "1.5    0.015105\n",
      "2.0    0.044843\n",
      "2.5    0.084730\n",
      "3.0    0.168515\n",
      "3.5    0.240264\n",
      "4.0    0.242152\n",
      "4.5    0.164503\n",
      "5.0    0.034930\n",
      "dtype: float64\n"
     ]
    }
   ],
   "source": [
    "# Step 1\n",
    "stars_count_direct = businesses_yelp.groupby(\"stars\").size()\n",
    "# Step 2\n",
    "stars_count_direct = stars_count_direct / len(businesses_yelp)\n",
    "print(stars_count_direct)"
   ]
  },
  {
   "cell_type": "code",
   "execution_count": 10,
   "metadata": {},
   "outputs": [
    {
     "name": "stdout",
     "output_type": "stream",
     "text": [
      "                                                     text  text_len\n",
      "0       I'll be the first to admit that I was not exci...       295\n",
      "1       Wow. So surprised at the one and two star revi...       212\n",
      "2       if i can give this place no stars i would, i o...       123\n",
      "3       This place epitomizes the rumored transformati...        45\n",
      "4       Here's why I don't write reviews for Chinese r...       174\n",
      "...                                                   ...       ...\n",
      "216851  managed not to mess up order like north hills ...        16\n",
      "216852  Amazing! Drove up from cleveland to try it...n...        36\n",
      "216853  Tasty authentic Mexican food! Eat lunch here f...        25\n",
      "216854  I came for lunch time. It was full. The place ...        91\n",
      "216855  This is the worst pizza and other food restaur...        32\n",
      "\n",
      "[216856 rows x 2 columns]\n"
     ]
    },
    {
     "data": {
      "text/plain": [
       "stars\n",
       "1.0    124.991192\n",
       "2.0    141.032934\n",
       "3.0    137.921116\n",
       "4.0    121.083072\n",
       "5.0     94.313278\n",
       "Name: text_len, dtype: float64"
      ]
     },
     "execution_count": 10,
     "metadata": {},
     "output_type": "execute_result"
    }
   ],
   "source": [
    "reviews_yelp[\"text_len\"] = reviews_yelp[\"text\"].apply(lambda x: len(x.split(\" \")))\n",
    "\n",
    "#lambda function is equivalent to a definition\n",
    "# def find_text_length(x):\n",
    "#    return len(x.split(\" \"))\n",
    "\n",
    "\n",
    "\n",
    "print(reviews_yelp.loc[:,[\"text\",\"text_len\"]])\n",
    "\n",
    "reviews_yelp.groupby(\"stars\").mean()[\"text_len\"]"
   ]
  },
  {
   "cell_type": "markdown",
   "metadata": {},
   "source": [
    "# Basic Statistics\n",
    "\n",
    "## Star Distributions\n",
    "\n",
    "| Stars | Percent (Option 1) | Percent (Option 2) |\n",
    "|-------|---------|---------|\n",
    "| 1     | 0.96    | 0.50 |\n",
    "| 1.5   |   N/A   | 1.51 |\n",
    "| 2     | 9.37    | 4.48 |\n",
    "| 2.5   |   N/A   | 8.47 |\n",
    "| 3     | 31.70   | 16.85 |\n",
    "| 3.5   |  N/A    | 24.03 |\n",
    "| 4     | 48.62   | 24.22 |\n",
    "| 4.5   |  N/A    | 16.45 |\n",
    "| 5     | 9.35    | 3.49 |\n",
    "\n",
    "## Word Count Distributions\n",
    "\n",
    "| Stars | Word Count |\n",
    "|-------|------------|\n",
    "| 1     | 125        |\n",
    "| 2     | 141        |\n",
    "| 3     | 138        |\n",
    "| 4     | 121        |\n",
    "| 5     | 94         |\n",
    "\n",
    "## Notes\n",
    "\n",
    "   - Star distributions are per-restaurant while word count distributions are per-review. The following code shows a common error where students answered distributions of stars per-review. The difference is pretty extreme at the bottom end, with 1-star reviews making up 10% of the data, but only 1% of restaurants having a 1-star average."
   ]
  },
  {
   "cell_type": "code",
   "execution_count": 11,
   "metadata": {},
   "outputs": [
    {
     "name": "stdout",
     "output_type": "stream",
     "text": [
      "stars\n",
      "1.0    0.104189\n",
      "2.0    0.093532\n",
      "3.0    0.139830\n",
      "4.0    0.281828\n",
      "5.0    0.380621\n",
      "dtype: float64\n"
     ]
    }
   ],
   "source": [
    "review_counts_by_star = reviews_yelp.groupby(\"stars\").size()\n",
    "review_counts_by_star = review_counts_by_star / len(reviews_yelp)\n",
    "print(review_counts_by_star)"
   ]
  },
  {
   "cell_type": "markdown",
   "metadata": {},
   "source": [
    "## Question 2\n",
    "\n",
    "This problem required breaking apart a string into its component parts. I did that using the .split() command, though there are other options.\n",
    "\n",
    "341 values is probably too many to give everything in a written report. I didn't take off any points for anyone that pasted the whole thing in, but a reasonable best practice would be to separate the full output to a separate file, and only give some highlights to the reader."
   ]
  },
  {
   "cell_type": "code",
   "execution_count": 12,
   "metadata": {},
   "outputs": [
    {
     "name": "stdout",
     "output_type": "stream",
     "text": [
      "There are 341 labels.\n"
     ]
    }
   ],
   "source": [
    "# Step 1: find those label\n",
    "possible_labels = []\n",
    "for row in businesses_yelp[\"categories\"]:\n",
    "    labels = row.split(\", \")\n",
    "    for label in labels:\n",
    "        if label not in possible_labels:\n",
    "            possible_labels.append(label)\n",
    "print(f\"There are {len(possible_labels)} labels.\")"
   ]
  },
  {
   "cell_type": "code",
   "execution_count": 13,
   "metadata": {
    "scrolled": true
   },
   "outputs": [
    {
     "name": "stdout",
     "output_type": "stream",
     "text": [
      "Sandwiches: 572 stores, the mean is 3.54\n",
      "Salad: 213 stores, the mean is 3.49\n",
      "Restaurants: 3512 stores, the mean is 3.51\n",
      "Burgers: 329 stores, the mean is 2.99\n",
      "Nightlife: 686 stores, the mean is 3.53\n",
      "Bars: 826 stores, the mean is 3.59\n",
      "Beer: 169 stores, the mean is 3.75\n",
      "Wine & Spirits: 127 stores, the mean is 3.79\n",
      "Food: 1894 stores, the mean is 3.62\n",
      "Fast Food: 328 stores, the mean is 2.83\n",
      "Pizza: 690 stores, the mean is 3.43\n",
      "Delis: 135 stores, the mean is 3.89\n",
      "Cafes: 166 stores, the mean is 4.03\n",
      "Bakeries: 180 stores, the mean is 3.87\n",
      "Event Planning & Services: 201 stores, the mean is 3.81\n",
      "Caterers: 144 stores, the mean is 3.81\n",
      "Desserts: 167 stores, the mean is 3.93\n",
      "Ice Cream & Frozen Yogurt: 162 stores, the mean is 3.91\n",
      "Italian: 412 stores, the mean is 3.47\n",
      "Grocery: 194 stores, the mean is 3.54\n"
     ]
    },
    {
     "name": "stderr",
     "output_type": "stream",
     "text": [
      "/Users/penguin/opt/anaconda3/envs/upenn/lib/python3.7/site-packages/pandas/core/strings.py:1843: UserWarning: This pattern has match groups. To actually get the groups, use str.extract.\n",
      "  return func(self, *args, **kwargs)\n"
     ]
    },
    {
     "name": "stdout",
     "output_type": "stream",
     "text": [
      "Coffee & Tea: 382 stores, the mean is 3.64\n",
      "Breakfast & Brunch: 333 stores, the mean is 3.55\n",
      "Convenience Stores: 101 stores, the mean is 3.33\n",
      "Specialty Food: 179 stores, the mean is 4.04\n",
      "Chicken Wings: 191 stores, the mean is 3.13\n",
      "Mexican: 175 stores, the mean is 3.38\n",
      "Sports Bars: 114 stores, the mean is 3.25\n",
      "Seafood: 146 stores, the mean is 3.50\n",
      "Diners: 156 stores, the mean is 3.51\n",
      "Shopping: 146 stores, the mean is 3.60\n",
      "Chinese: 227 stores, the mean is 3.45\n"
     ]
    }
   ],
   "source": [
    "for label in possible_labels:\n",
    "    # Step 1:\n",
    "    # str. contains() function is used to test if pattern or regex is contained within a string of a Series or Index. \n",
    "    subset_businesses = businesses_yelp.loc[businesses_yelp.categories.str.contains(label)]\n",
    "    # Step 2: count businesses under every labels\n",
    "    # \n",
    "    # reviews_by_business = reviews_yelp.groupby('business_id')\n",
    "    # business_means = reviews_by_business.mean()\n",
    "    # Index.isin(self, values, level=None)\n",
    "    # Return a boolean array where the index values are in values.\n",
    "    subset_stats = business_means.loc[business_means.index.isin(subset_businesses.business_id)]\n",
    "    subset_mean = subset_stats.stars.mean()\n",
    "\n",
    "    # Don't print out everything, too exhausting\n",
    "    # 100 is subjective to choose，means the occurrence of certain label is more than 100.\n",
    "    if len(subset_stats) > 100:\n",
    "        print(f\"{label}: {len(subset_stats)} stores, the mean is {subset_mean:.2f}\")"
   ]
  }
 ],
 "metadata": {
  "kernelspec": {
   "display_name": "Python 3",
   "language": "python",
   "name": "python3"
  },
  "language_info": {
   "codemirror_mode": {
    "name": "ipython",
    "version": 3
   },
   "file_extension": ".py",
   "mimetype": "text/x-python",
   "name": "python",
   "nbconvert_exporter": "python",
   "pygments_lexer": "ipython3",
   "version": "3.7.4"
  }
 },
 "nbformat": 4,
 "nbformat_minor": 2
}
